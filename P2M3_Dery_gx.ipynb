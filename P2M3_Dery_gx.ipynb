{
 "cells": [
  {
   "cell_type": "markdown",
   "metadata": {},
   "source": [
    "\n",
    "    =================================================\n",
    "    \n",
    "   \n",
    "\n",
    "    Nama  : Dery Rai Ambhara\n",
    "\n",
    "\n",
    "    Program ini dibuat untuk membangun konteks data (data context) menggunakan Great Expectations, sebuah perangkat lunak open-source yang \n",
    "    digunakan untuk mengelola, memantau, dan menguji kualitas data.\n",
    "    \n",
    "    ================================================="
   ]
  },
  {
   "cell_type": "code",
   "execution_count": 3,
   "metadata": {},
   "outputs": [],
   "source": [
    "# Create a data context\n",
    "\n",
    "from great_expectations.data_context import FileDataContext\n",
    "import pandas as pd\n",
    "from great_expectations.dataset import PandasDataset\n",
    "import os\n",
    "\n",
    "\n",
    "context = FileDataContext.create(project_root_dir='C:\\\\Users\\\\IRFAN\\\\hacktiv8\\\\projectm3\\\\csv')\n",
    "\n"
   ]
  },
  {
   "cell_type": "code",
   "execution_count": 4,
   "metadata": {},
   "outputs": [],
   "source": [
    "# Local CSV file path\n",
    "local_csv_path = 'C:\\\\Users\\\\IRFAN\\\\hacktiv8\\\\projectm3\\\\csv\\\\P2M3_Dery_data_clean.csv'\n",
    "\n",
    "# Extracting the file name without extension to use as asset_name\n",
    "asset_name = os.path.splitext(os.path.basename(local_csv_path))[0]\n",
    "\n",
    "# Give a unique name to the datasource\n",
    "datasource_name = 'csv-m3'\n",
    "\n",
    "# Adding the datasource\n",
    "datasource = context.sources.add_pandas(datasource_name)\n",
    "\n",
    "# Adding the CSV asset to the datasource\n",
    "asset = datasource.add_csv_asset(asset_name, filepath_or_buffer=local_csv_path)\n",
    "\n",
    "# Building batch request\n",
    "batch_request = asset.build_batch_request()\n"
   ]
  },
  {
   "cell_type": "markdown",
   "metadata": {},
   "source": [
    "**Insight** : file csv yang berada di `C:\\\\Users\\\\IRFAN\\\\hacktiv8\\\\projectm3\\\\csv\\\\P2M3_Dery_data_clean.csv` bernama `P2M3_Dery_data_clean.csv` akan di load untuk dimonitoring . lalu akan di ambil file csv tanpa ekstensinya dengan cara `os.path.basename` dan dipisahkan ekstensi file menggunakan `os.path.splitext`, kemudian disimpan di dalam variable `asset_name`. lalu data CSV yang akan ditambahkan ke konteks Great Expectations dengan nama `csv-m3` dan disimpan pada variable `datasource_name`. `Asset` ini adalah representasi dari file CSV yang akan dimonitor. lalu pada `batch_request` digunakan untuk memeriksa data dalam file csv untuk melakukan pemeriksaaan dan validasi pada data."
   ]
  },
  {
   "cell_type": "code",
   "execution_count": 5,
   "metadata": {},
   "outputs": [
    {
     "data": {
      "application/vnd.jupyter.widget-view+json": {
       "model_id": "ac93695e712447f7a339bd45d041d2e0",
       "version_major": 2,
       "version_minor": 0
      },
      "text/plain": [
       "Calculating Metrics:   0%|          | 0/1 [00:00<?, ?it/s]"
      ]
     },
     "metadata": {},
     "output_type": "display_data"
    },
    {
     "data": {
      "text/html": [
       "<div>\n",
       "<style scoped>\n",
       "    .dataframe tbody tr th:only-of-type {\n",
       "        vertical-align: middle;\n",
       "    }\n",
       "\n",
       "    .dataframe tbody tr th {\n",
       "        vertical-align: top;\n",
       "    }\n",
       "\n",
       "    .dataframe thead th {\n",
       "        text-align: right;\n",
       "    }\n",
       "</style>\n",
       "<table border=\"1\" class=\"dataframe\">\n",
       "  <thead>\n",
       "    <tr style=\"text-align: right;\">\n",
       "      <th></th>\n",
       "      <th>Unnamed: 0</th>\n",
       "      <th>unnamed:_0</th>\n",
       "      <th>hours_studied</th>\n",
       "      <th>attendance</th>\n",
       "      <th>parental_involvement</th>\n",
       "      <th>access_to_resources</th>\n",
       "      <th>extracurricular_activities</th>\n",
       "      <th>sleep_hours</th>\n",
       "      <th>previous_scores</th>\n",
       "      <th>motivation_level</th>\n",
       "      <th>...</th>\n",
       "      <th>family_income</th>\n",
       "      <th>teacher_quality</th>\n",
       "      <th>school_type</th>\n",
       "      <th>peer_influence</th>\n",
       "      <th>physical_activity</th>\n",
       "      <th>learning_disabilities</th>\n",
       "      <th>parental_education_level</th>\n",
       "      <th>distance_from_home</th>\n",
       "      <th>gender</th>\n",
       "      <th>exam_score</th>\n",
       "    </tr>\n",
       "  </thead>\n",
       "  <tbody>\n",
       "    <tr>\n",
       "      <th>0</th>\n",
       "      <td>0</td>\n",
       "      <td>0</td>\n",
       "      <td>23</td>\n",
       "      <td>84</td>\n",
       "      <td>Low</td>\n",
       "      <td>High</td>\n",
       "      <td>No</td>\n",
       "      <td>7</td>\n",
       "      <td>73</td>\n",
       "      <td>Low</td>\n",
       "      <td>...</td>\n",
       "      <td>Low</td>\n",
       "      <td>Medium</td>\n",
       "      <td>Public</td>\n",
       "      <td>Positive</td>\n",
       "      <td>3</td>\n",
       "      <td>No</td>\n",
       "      <td>High School</td>\n",
       "      <td>Near</td>\n",
       "      <td>Male</td>\n",
       "      <td>67</td>\n",
       "    </tr>\n",
       "    <tr>\n",
       "      <th>1</th>\n",
       "      <td>1</td>\n",
       "      <td>1</td>\n",
       "      <td>19</td>\n",
       "      <td>64</td>\n",
       "      <td>Low</td>\n",
       "      <td>Medium</td>\n",
       "      <td>No</td>\n",
       "      <td>8</td>\n",
       "      <td>59</td>\n",
       "      <td>Low</td>\n",
       "      <td>...</td>\n",
       "      <td>Medium</td>\n",
       "      <td>Medium</td>\n",
       "      <td>Public</td>\n",
       "      <td>Negative</td>\n",
       "      <td>4</td>\n",
       "      <td>No</td>\n",
       "      <td>College</td>\n",
       "      <td>Moderate</td>\n",
       "      <td>Female</td>\n",
       "      <td>61</td>\n",
       "    </tr>\n",
       "    <tr>\n",
       "      <th>2</th>\n",
       "      <td>2</td>\n",
       "      <td>2</td>\n",
       "      <td>24</td>\n",
       "      <td>98</td>\n",
       "      <td>Medium</td>\n",
       "      <td>Medium</td>\n",
       "      <td>Yes</td>\n",
       "      <td>7</td>\n",
       "      <td>91</td>\n",
       "      <td>Medium</td>\n",
       "      <td>...</td>\n",
       "      <td>Medium</td>\n",
       "      <td>Medium</td>\n",
       "      <td>Public</td>\n",
       "      <td>Neutral</td>\n",
       "      <td>4</td>\n",
       "      <td>No</td>\n",
       "      <td>Postgraduate</td>\n",
       "      <td>Near</td>\n",
       "      <td>Male</td>\n",
       "      <td>74</td>\n",
       "    </tr>\n",
       "    <tr>\n",
       "      <th>3</th>\n",
       "      <td>3</td>\n",
       "      <td>3</td>\n",
       "      <td>29</td>\n",
       "      <td>89</td>\n",
       "      <td>Low</td>\n",
       "      <td>Medium</td>\n",
       "      <td>Yes</td>\n",
       "      <td>8</td>\n",
       "      <td>98</td>\n",
       "      <td>Medium</td>\n",
       "      <td>...</td>\n",
       "      <td>Medium</td>\n",
       "      <td>Medium</td>\n",
       "      <td>Public</td>\n",
       "      <td>Negative</td>\n",
       "      <td>4</td>\n",
       "      <td>No</td>\n",
       "      <td>High School</td>\n",
       "      <td>Moderate</td>\n",
       "      <td>Male</td>\n",
       "      <td>71</td>\n",
       "    </tr>\n",
       "    <tr>\n",
       "      <th>4</th>\n",
       "      <td>4</td>\n",
       "      <td>4</td>\n",
       "      <td>19</td>\n",
       "      <td>92</td>\n",
       "      <td>Medium</td>\n",
       "      <td>Medium</td>\n",
       "      <td>Yes</td>\n",
       "      <td>6</td>\n",
       "      <td>65</td>\n",
       "      <td>Medium</td>\n",
       "      <td>...</td>\n",
       "      <td>Medium</td>\n",
       "      <td>High</td>\n",
       "      <td>Public</td>\n",
       "      <td>Neutral</td>\n",
       "      <td>4</td>\n",
       "      <td>No</td>\n",
       "      <td>College</td>\n",
       "      <td>Near</td>\n",
       "      <td>Female</td>\n",
       "      <td>70</td>\n",
       "    </tr>\n",
       "  </tbody>\n",
       "</table>\n",
       "<p>5 rows × 22 columns</p>\n",
       "</div>"
      ],
      "text/plain": [
       "   Unnamed: 0  unnamed:_0  hours_studied  attendance parental_involvement  \\\n",
       "0           0           0             23          84                  Low   \n",
       "1           1           1             19          64                  Low   \n",
       "2           2           2             24          98               Medium   \n",
       "3           3           3             29          89                  Low   \n",
       "4           4           4             19          92               Medium   \n",
       "\n",
       "  access_to_resources extracurricular_activities  sleep_hours  \\\n",
       "0                High                         No            7   \n",
       "1              Medium                         No            8   \n",
       "2              Medium                        Yes            7   \n",
       "3              Medium                        Yes            8   \n",
       "4              Medium                        Yes            6   \n",
       "\n",
       "   previous_scores motivation_level  ... family_income  teacher_quality  \\\n",
       "0               73              Low  ...           Low           Medium   \n",
       "1               59              Low  ...        Medium           Medium   \n",
       "2               91           Medium  ...        Medium           Medium   \n",
       "3               98           Medium  ...        Medium           Medium   \n",
       "4               65           Medium  ...        Medium             High   \n",
       "\n",
       "  school_type peer_influence physical_activity learning_disabilities  \\\n",
       "0      Public       Positive                 3                    No   \n",
       "1      Public       Negative                 4                    No   \n",
       "2      Public        Neutral                 4                    No   \n",
       "3      Public       Negative                 4                    No   \n",
       "4      Public        Neutral                 4                    No   \n",
       "\n",
       "   parental_education_level distance_from_home  gender exam_score  \n",
       "0               High School               Near    Male         67  \n",
       "1                   College           Moderate  Female         61  \n",
       "2              Postgraduate               Near    Male         74  \n",
       "3               High School           Moderate    Male         71  \n",
       "4                   College               Near  Female         70  \n",
       "\n",
       "[5 rows x 22 columns]"
      ]
     },
     "execution_count": 5,
     "metadata": {},
     "output_type": "execute_result"
    }
   ],
   "source": [
    "# Creat an expectation suite\n",
    "expectation_suite_name = 'expectation-dataset'\n",
    "context.add_or_update_expectation_suite(expectation_suite_name)\n",
    "\n",
    "# Create a validator using above expectation suite\n",
    "validator = context.get_validator(\n",
    "    batch_request = batch_request,\n",
    "    expectation_suite_name = expectation_suite_name\n",
    ")\n",
    "df = pd.read_csv(local_csv_path)\n",
    "df['no_index'] = df.index\n",
    "# Check the validator\n",
    "validator.head()\n",
    "\n"
   ]
  },
  {
   "cell_type": "markdown",
   "metadata": {},
   "source": [
    "**Insight** : membuat, mengatur, dan memeriksa validator menggunakan Great Expectations, dengan cara menentukan nama untuk suite ekspektasi (expectation suite) yang akan dibuat, lalu menambahkan atau memperbarui suite ekspektasi dengan nama yang telah ditentukan. selanjutnya pada `validator` membuat objek validator dengan menggunakan permintaan batch (batch request) yang telah dibangun sebelumnya dan suite ekspektasi yang telah dibuat. setelah itu fungsi akan dipanggil pada `validator.head()` untuk memeriksa beberapa baris pertama dari data yang telah dimuat ke dalam validator\n",
    "dengan melakukan langkah semua ini dapat memastikan bahwa data memenuhi aturan atau ekspektasi tertentu sebelum dilanjutkan ke tahap analisis atau penggunaan selanjutnya. "
   ]
  },
  {
   "cell_type": "markdown",
   "metadata": {},
   "source": [
    "## Expectations"
   ]
  },
  {
   "cell_type": "markdown",
   "metadata": {},
   "source": [
    "#### To be unique"
   ]
  },
  {
   "cell_type": "code",
   "execution_count": 6,
   "metadata": {},
   "outputs": [
    {
     "data": {
      "text/plain": [
       "{\n",
       "  \"results\": [\n",
       "    {\n",
       "      \"result\": {\n",
       "        \"element_count\": 6607,\n",
       "        \"missing_count\": 0,\n",
       "        \"missing_percent\": 0.0,\n",
       "        \"unexpected_count\": 0,\n",
       "        \"unexpected_percent\": 0.0,\n",
       "        \"unexpected_percent_total\": 0.0,\n",
       "        \"unexpected_percent_nonmissing\": 0.0,\n",
       "        \"partial_unexpected_list\": []\n",
       "      },\n",
       "      \"exception_info\": {\n",
       "        \"raised_exception\": false,\n",
       "        \"exception_message\": null,\n",
       "        \"exception_traceback\": null\n",
       "      },\n",
       "      \"meta\": {},\n",
       "      \"expectation_config\": {\n",
       "        \"expectation_type\": \"expect_column_values_to_be_unique\",\n",
       "        \"meta\": {},\n",
       "        \"kwargs\": {\n",
       "          \"column\": \"no_index\",\n",
       "          \"result_format\": \"BASIC\"\n",
       "        }\n",
       "      },\n",
       "      \"success\": true\n",
       "    }\n",
       "  ],\n",
       "  \"evaluation_parameters\": {},\n",
       "  \"meta\": {\n",
       "    \"great_expectations_version\": \"0.18.3\",\n",
       "    \"expectation_suite_name\": \"default\",\n",
       "    \"run_id\": {\n",
       "      \"run_name\": null,\n",
       "      \"run_time\": \"2024-09-16T14:28:03.797835+07:00\"\n",
       "    },\n",
       "    \"batch_kwargs\": {\n",
       "      \"ge_batch_id\": \"35c6af86-73fd-11ef-9c32-4ccc6a01493f\"\n",
       "    },\n",
       "    \"batch_markers\": {},\n",
       "    \"batch_parameters\": {},\n",
       "    \"validation_time\": \"20240916T072803.797835Z\",\n",
       "    \"expectation_suite_meta\": {\n",
       "      \"great_expectations_version\": \"0.18.3\"\n",
       "    }\n",
       "  },\n",
       "  \"statistics\": {\n",
       "    \"evaluated_expectations\": 1,\n",
       "    \"successful_expectations\": 1,\n",
       "    \"unsuccessful_expectations\": 0,\n",
       "    \"success_percent\": 100.0\n",
       "  },\n",
       "  \"success\": true\n",
       "}"
      ]
     },
     "execution_count": 6,
     "metadata": {},
     "output_type": "execute_result"
    }
   ],
   "source": [
    "batch_data = PandasDataset(df)\n",
    "\n",
    "# Membuat expectation bahwa nilai dalam kolom 'no_index'\n",
    "batch_data.expect_column_values_to_be_unique('no_index') #membuat column baru untuk melakukan unique values\n",
    "validation_results = batch_data.validate()\n",
    "\n",
    "validation_results"
   ]
  },
  {
   "cell_type": "markdown",
   "metadata": {},
   "source": [
    "**Insight** : Melakukan expect_column_values_to_be_unique pada kolom yang barusaja ditambahkan `no_index`. berikut hasilnya :\n",
    "-  Hasilnya menunjukkan bahwa semua nilai element_count\": 6607 dalam kolom tersebut unik, Jumlah nilai yang hilang dalam kolom 0 dan umlah nilai yang tidak terduga (non-unik) yang ditemukan dalam kolom 0. validasi berhasil dan kolom tersebut memenuhi harapan bahwa nilainya harus unik `\"success\": true,`"
   ]
  },
  {
   "cell_type": "markdown",
   "metadata": {},
   "source": [
    "#### To be between min_value and max_value"
   ]
  },
  {
   "cell_type": "code",
   "execution_count": 14,
   "metadata": {},
   "outputs": [
    {
     "data": {
      "application/vnd.jupyter.widget-view+json": {
       "model_id": "547fe4a3b4db4d9ab885254dcc6d600f",
       "version_major": 2,
       "version_minor": 0
      },
      "text/plain": [
       "Calculating Metrics:   0%|          | 0/4 [00:00<?, ?it/s]"
      ]
     },
     "metadata": {},
     "output_type": "display_data"
    },
    {
     "data": {
      "text/plain": [
       "{\n",
       "  \"result\": {\n",
       "    \"observed_value\": 7.029060087785682\n",
       "  },\n",
       "  \"exception_info\": {\n",
       "    \"raised_exception\": false,\n",
       "    \"exception_traceback\": null,\n",
       "    \"exception_message\": null\n",
       "  },\n",
       "  \"meta\": {},\n",
       "  \"success\": true\n",
       "}"
      ]
     },
     "execution_count": 14,
     "metadata": {},
     "output_type": "execute_result"
    }
   ],
   "source": [
    "validator.expect_column_mean_to_be_between('sleep_hours', 3, 10)"
   ]
  },
  {
   "cell_type": "markdown",
   "metadata": {},
   "source": [
    "**Insight** : Melakukan validator.expect_column_mean_to_be_between pada column `sleep_hours` dengan range 3 - 10. Berikut hasilnya:\n",
    "-  Hasil pemeriksaan menunjukkan bahwa rata-rata kolom `'sleep_hours'` adalah 7.02, yang artinya nilai rata-rata yang berada pada column `sleep_hours` berada pada range `3-10`, dan pemeriksaan berlangsung dengan sukses. `\"success\": true,`"
   ]
  },
  {
   "cell_type": "markdown",
   "metadata": {},
   "source": [
    "#### To be  in set"
   ]
  },
  {
   "cell_type": "code",
   "execution_count": 39,
   "metadata": {},
   "outputs": [
    {
     "data": {
      "application/vnd.jupyter.widget-view+json": {
       "model_id": "845991d1a3044472bb07b5448bda0b7d",
       "version_major": 2,
       "version_minor": 0
      },
      "text/plain": [
       "Calculating Metrics:   0%|          | 0/8 [00:00<?, ?it/s]"
      ]
     },
     "metadata": {},
     "output_type": "display_data"
    },
    {
     "data": {
      "text/plain": [
       "{\n",
       "  \"result\": {\n",
       "    \"element_count\": 6607,\n",
       "    \"unexpected_count\": 0,\n",
       "    \"unexpected_percent\": 0.0,\n",
       "    \"partial_unexpected_list\": [],\n",
       "    \"missing_count\": 0,\n",
       "    \"missing_percent\": 0.0,\n",
       "    \"unexpected_percent_total\": 0.0,\n",
       "    \"unexpected_percent_nonmissing\": 0.0\n",
       "  },\n",
       "  \"exception_info\": {\n",
       "    \"raised_exception\": false,\n",
       "    \"exception_traceback\": null,\n",
       "    \"exception_message\": null\n",
       "  },\n",
       "  \"meta\": {},\n",
       "  \"success\": true\n",
       "}"
      ]
     },
     "execution_count": 39,
     "metadata": {},
     "output_type": "execute_result"
    }
   ],
   "source": [
    "validator.expect_column_values_to_be_in_set(\n",
    "    column=\"gender\",\n",
    "    value_set=[\"Male\", \"Female\"]\n",
    ")"
   ]
  },
  {
   "cell_type": "markdown",
   "metadata": {},
   "source": [
    "\n",
    "**Insight** : Melakukan validator.expect_column_most_common_value_to_be_in_set pada column `gender`, dengan mencari mayoritas pada column tersebut. berikut hasilnya :\n",
    "\n",
    "- Validasi sukses dan menunjukkan bahwa bahwa nilai yang paling umum (most common value) dalam kolom `'gender'` adalah `\"Male\" dan \"Female\"`, yang memang termasuk dalam himpunan nilai yang diharapkan pemeriksaan berlangsung dengan sukses `\"success\": true`, "
   ]
  },
  {
   "cell_type": "markdown",
   "metadata": {},
   "source": [
    "#### To be in Type list"
   ]
  },
  {
   "cell_type": "code",
   "execution_count": 34,
   "metadata": {},
   "outputs": [
    {
     "data": {
      "application/vnd.jupyter.widget-view+json": {
       "model_id": "0d144225a6294d45aaa559f365470f03",
       "version_major": 2,
       "version_minor": 0
      },
      "text/plain": [
       "Calculating Metrics:   0%|          | 0/1 [00:00<?, ?it/s]"
      ]
     },
     "metadata": {},
     "output_type": "display_data"
    },
    {
     "data": {
      "text/plain": [
       "{\n",
       "  \"result\": {\n",
       "    \"observed_value\": \"int64\"\n",
       "  },\n",
       "  \"exception_info\": {\n",
       "    \"raised_exception\": false,\n",
       "    \"exception_traceback\": null,\n",
       "    \"exception_message\": null\n",
       "  },\n",
       "  \"meta\": {},\n",
       "  \"success\": true\n",
       "}"
      ]
     },
     "execution_count": 34,
     "metadata": {},
     "output_type": "execute_result"
    }
   ],
   "source": [
    "validator.expect_column_values_to_be_in_type_list(\n",
    "    column=\"exam_score\",\n",
    "    type_list=[\"int64\"]\n",
    ")"
   ]
  },
  {
   "cell_type": "markdown",
   "metadata": {},
   "source": [
    "**Insight** Melakukan validator.expect_column_values_to_be_of_type pada column `exam_score`\n",
    "- Hasil pemeriksaan menunjukkan bahwa semua nilai dalam kolom `exam_score` tersebut adalah tipe data 'int64'"
   ]
  },
  {
   "cell_type": "markdown",
   "metadata": {},
   "source": [
    "#### median_to_be_between"
   ]
  },
  {
   "cell_type": "code",
   "execution_count": 36,
   "metadata": {},
   "outputs": [
    {
     "data": {
      "application/vnd.jupyter.widget-view+json": {
       "model_id": "e2365cf0bca247da83e486e4612f6268",
       "version_major": 2,
       "version_minor": 0
      },
      "text/plain": [
       "Calculating Metrics:   0%|          | 0/4 [00:00<?, ?it/s]"
      ]
     },
     "metadata": {},
     "output_type": "display_data"
    },
    {
     "data": {
      "text/plain": [
       "{\n",
       "  \"result\": {\n",
       "    \"observed_value\": 7.0\n",
       "  },\n",
       "  \"exception_info\": {\n",
       "    \"raised_exception\": false,\n",
       "    \"exception_traceback\": null,\n",
       "    \"exception_message\": null\n",
       "  },\n",
       "  \"meta\": {},\n",
       "  \"success\": true\n",
       "}"
      ]
     },
     "execution_count": 36,
     "metadata": {},
     "output_type": "execute_result"
    }
   ],
   "source": [
    "validator.expect_column_median_to_be_between('sleep_hours',min_value=0, max_value=10 )"
   ]
  },
  {
   "cell_type": "markdown",
   "metadata": {},
   "source": [
    "**Insight** : Melakukan validator.expect_column_median_to_be_between pada column `sleep_hours`. Berikut hasilnya :\n",
    "- Hasil pemeriksaan menunjukkan bahwa nilai median dalam kolom `sleep_hours` adalah `7`, yang berada dalam rentang yang diharapkan antara 0 dan 10   pemeriksaan berlasung dengan sukses `\"success\": true,`"
   ]
  },
  {
   "cell_type": "markdown",
   "metadata": {},
   "source": [
    "#### row_count_to_be_between"
   ]
  },
  {
   "cell_type": "code",
   "execution_count": 37,
   "metadata": {},
   "outputs": [
    {
     "data": {
      "application/vnd.jupyter.widget-view+json": {
       "model_id": "83470914401346f49701e3fa947cdcc0",
       "version_major": 2,
       "version_minor": 0
      },
      "text/plain": [
       "Calculating Metrics:   0%|          | 0/1 [00:00<?, ?it/s]"
      ]
     },
     "metadata": {},
     "output_type": "display_data"
    },
    {
     "data": {
      "text/plain": [
       "{\n",
       "  \"result\": {\n",
       "    \"observed_value\": 6607\n",
       "  },\n",
       "  \"exception_info\": {\n",
       "    \"raised_exception\": false,\n",
       "    \"exception_traceback\": null,\n",
       "    \"exception_message\": null\n",
       "  },\n",
       "  \"meta\": {},\n",
       "  \"success\": true\n",
       "}"
      ]
     },
     "execution_count": 37,
     "metadata": {},
     "output_type": "execute_result"
    }
   ],
   "source": [
    "validator.expect_table_row_count_to_be_between(0, 10000)"
   ]
  },
  {
   "cell_type": "markdown",
   "metadata": {},
   "source": [
    "**Insight** : Melakukan validator.expect_table_row_count_to_be_between pada dataset `P2M3_dery_data_clean.csv`. Berikut hasilnya :\n",
    "- Hasil pemeriksaan menunjukkan bahwa jumlah baris dalam tabel adalah `6607`, yang berada dalam rentang yang diharapkan antara 0 dan 10000. yang artinya bahwa pemeriksaan berlangsung dengan sukses. `\"success\": true`"
   ]
  },
  {
   "cell_type": "markdown",
   "metadata": {},
   "source": [
    "#### column_values_to_be_null"
   ]
  },
  {
   "cell_type": "code",
   "execution_count": 38,
   "metadata": {},
   "outputs": [
    {
     "data": {
      "application/vnd.jupyter.widget-view+json": {
       "model_id": "7830ecad609d4ee58e57fec138521ad8",
       "version_major": 2,
       "version_minor": 0
      },
      "text/plain": [
       "Calculating Metrics:   0%|          | 0/6 [00:00<?, ?it/s]"
      ]
     },
     "metadata": {},
     "output_type": "display_data"
    },
    {
     "data": {
      "text/plain": [
       "{\n",
       "  \"result\": {\n",
       "    \"element_count\": 6607,\n",
       "    \"unexpected_count\": 0,\n",
       "    \"unexpected_percent\": 0.0,\n",
       "    \"partial_unexpected_list\": []\n",
       "  },\n",
       "  \"exception_info\": {\n",
       "    \"raised_exception\": false,\n",
       "    \"exception_traceback\": null,\n",
       "    \"exception_message\": null\n",
       "  },\n",
       "  \"meta\": {},\n",
       "  \"success\": true\n",
       "}"
      ]
     },
     "execution_count": 38,
     "metadata": {},
     "output_type": "execute_result"
    }
   ],
   "source": [
    "validator.expect_column_values_to_not_be_null('exam_score')"
   ]
  },
  {
   "cell_type": "markdown",
   "metadata": {},
   "source": [
    "**insight** : Melakukan validator.expect_column_values_to_not_be_null pada column `exam_score`. memverifikasi bahwa setiap entri dalam kolom `exam_score` memiliki nilai yang tidak null. berikut hasilnya :\n",
    "- pemeriksaan data pada kolom 'exam_score' berhasil dilakukan tanpa masalah. Tidak ada nilai yang tidak diharapkan (NULL) dalam kolom tersebut. Jumlah total baris yang diperiksa adalah 6607 , dengan persentase nilai NULL sebesar 0.0%, `\"success\": true,`"
   ]
  }
 ],
 "metadata": {
  "kernelspec": {
   "display_name": "newenv",
   "language": "python",
   "name": "python3"
  },
  "language_info": {
   "codemirror_mode": {
    "name": "ipython",
    "version": 3
   },
   "file_extension": ".py",
   "mimetype": "text/x-python",
   "name": "python",
   "nbconvert_exporter": "python",
   "pygments_lexer": "ipython3",
   "version": "3.9.19"
  }
 },
 "nbformat": 4,
 "nbformat_minor": 2
}
